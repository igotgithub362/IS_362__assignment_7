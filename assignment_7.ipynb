{
 "cells": [
  {
   "cell_type": "markdown",
   "id": "60ea224a",
   "metadata": {},
   "source": [
    "Choose six recent popular movies.  Ask at least five people that you know (friends, family, classmates, \n",
    "imaginary friends) to rate each of these movies that they have seen on a scale of 1 to 5.  There should be \n",
    "at least one movie that not everyone has seen! \n",
    "Take the results (observations) and store them somewhere (like a SQL database, or a .CSV file).  Load the \n",
    "\n",
    "information into a pandas dataframe.  Your solution should include Python and pandas code that \n",
    "accomplishes the following: \n",
    "1. Load the ratings by user information that you collected into a pandas dataframe. \n",
    "2. Show the average ratings for each user and each movie. \n",
    "3. Create a new pandas dataframe, with normalized ratings for each user.  Again, show the average \n",
    "ratings for each user and each movie. \n",
    "4. Provide a text-based conclusion: explain what might be advantages and disadvantages of using \n",
    "normalized ratings instead of the actual ratings. \n",
    "5. [Extra credit] Create another new pandas dataframe, with standardized ratings for each user.  \n",
    "Once again, show the average ratings for each user and each movie."
   ]
  },
  {
   "cell_type": "markdown",
   "id": "a148106d",
   "metadata": {},
   "source": [
    "## Import pandas and numpy libraries"
   ]
  },
  {
   "cell_type": "code",
   "execution_count": 49,
   "id": "24e031f2",
   "metadata": {},
   "outputs": [],
   "source": [
    "import pandas as pd\n",
    "import numpy as np"
   ]
  },
  {
   "cell_type": "code",
   "execution_count": 50,
   "id": "89f2d6b5",
   "metadata": {},
   "outputs": [],
   "source": [
    "mr = pd.read_csv(\"movie_rating.csv\", index_col = 0)"
   ]
  },
  {
   "cell_type": "markdown",
   "id": "4c442756",
   "metadata": {},
   "source": [
    "# AVERAGE DATA"
   ]
  },
  {
   "cell_type": "code",
   "execution_count": 51,
   "id": "07a5759c",
   "metadata": {},
   "outputs": [
    {
     "data": {
      "text/html": [
       "<div>\n",
       "<style scoped>\n",
       "    .dataframe tbody tr th:only-of-type {\n",
       "        vertical-align: middle;\n",
       "    }\n",
       "\n",
       "    .dataframe tbody tr th {\n",
       "        vertical-align: top;\n",
       "    }\n",
       "\n",
       "    .dataframe thead th {\n",
       "        text-align: right;\n",
       "    }\n",
       "</style>\n",
       "<table border=\"1\" class=\"dataframe\">\n",
       "  <thead>\n",
       "    <tr style=\"text-align: right;\">\n",
       "      <th></th>\n",
       "      <th>Beauty and the Beast</th>\n",
       "      <th>Legionnaire</th>\n",
       "      <th>Black Diamond</th>\n",
       "      <th>Strike back</th>\n",
       "      <th>Wakanda</th>\n",
       "      <th>Aqua Man</th>\n",
       "    </tr>\n",
       "  </thead>\n",
       "  <tbody>\n",
       "    <tr>\n",
       "      <th>Evans</th>\n",
       "      <td>3</td>\n",
       "      <td>4.0</td>\n",
       "      <td>2.0</td>\n",
       "      <td>4.0</td>\n",
       "      <td>5.0</td>\n",
       "      <td>NaN</td>\n",
       "    </tr>\n",
       "    <tr>\n",
       "      <th>Diana</th>\n",
       "      <td>4</td>\n",
       "      <td>4.0</td>\n",
       "      <td>3.0</td>\n",
       "      <td>NaN</td>\n",
       "      <td>5.0</td>\n",
       "      <td>4.0</td>\n",
       "    </tr>\n",
       "    <tr>\n",
       "      <th>David</th>\n",
       "      <td>4</td>\n",
       "      <td>3.0</td>\n",
       "      <td>NaN</td>\n",
       "      <td>4.0</td>\n",
       "      <td>NaN</td>\n",
       "      <td>NaN</td>\n",
       "    </tr>\n",
       "    <tr>\n",
       "      <th>Michelle</th>\n",
       "      <td>5</td>\n",
       "      <td>5.0</td>\n",
       "      <td>NaN</td>\n",
       "      <td>NaN</td>\n",
       "      <td>4.0</td>\n",
       "      <td>5.0</td>\n",
       "    </tr>\n",
       "    <tr>\n",
       "      <th>Rose</th>\n",
       "      <td>5</td>\n",
       "      <td>5.0</td>\n",
       "      <td>1.0</td>\n",
       "      <td>5.0</td>\n",
       "      <td>4.0</td>\n",
       "      <td>5.0</td>\n",
       "    </tr>\n",
       "    <tr>\n",
       "      <th>Benard</th>\n",
       "      <td>3</td>\n",
       "      <td>NaN</td>\n",
       "      <td>4.0</td>\n",
       "      <td>5.0</td>\n",
       "      <td>NaN</td>\n",
       "      <td>3.0</td>\n",
       "    </tr>\n",
       "  </tbody>\n",
       "</table>\n",
       "</div>"
      ],
      "text/plain": [
       "          Beauty and the Beast  Legionnaire  Black Diamond  Strike back  Wakanda  Aqua Man\n",
       "Evans                        3          4.0            2.0          4.0      5.0       NaN\n",
       "Diana                        4          4.0            3.0          NaN      5.0       4.0\n",
       "David                        4          3.0            NaN          4.0      NaN       NaN\n",
       "Michelle                     5          5.0            NaN          NaN      4.0       5.0\n",
       "Rose                         5          5.0            1.0          5.0      4.0       5.0\n",
       "Benard                       3          NaN            4.0          5.0      NaN       3.0"
      ]
     },
     "execution_count": 51,
     "metadata": {},
     "output_type": "execute_result"
    }
   ],
   "source": [
    "mr"
   ]
  },
  {
   "cell_type": "markdown",
   "id": "30af93be",
   "metadata": {},
   "source": [
    "## Replace NaN values with 0"
   ]
  },
  {
   "cell_type": "code",
   "execution_count": 52,
   "id": "0382c281",
   "metadata": {},
   "outputs": [
    {
     "data": {
      "text/html": [
       "<div>\n",
       "<style scoped>\n",
       "    .dataframe tbody tr th:only-of-type {\n",
       "        vertical-align: middle;\n",
       "    }\n",
       "\n",
       "    .dataframe tbody tr th {\n",
       "        vertical-align: top;\n",
       "    }\n",
       "\n",
       "    .dataframe thead th {\n",
       "        text-align: right;\n",
       "    }\n",
       "</style>\n",
       "<table border=\"1\" class=\"dataframe\">\n",
       "  <thead>\n",
       "    <tr style=\"text-align: right;\">\n",
       "      <th></th>\n",
       "      <th>Beauty and the Beast</th>\n",
       "      <th>Legionnaire</th>\n",
       "      <th>Black Diamond</th>\n",
       "      <th>Strike back</th>\n",
       "      <th>Wakanda</th>\n",
       "      <th>Aqua Man</th>\n",
       "    </tr>\n",
       "  </thead>\n",
       "  <tbody>\n",
       "    <tr>\n",
       "      <th>Evans</th>\n",
       "      <td>3</td>\n",
       "      <td>4.0</td>\n",
       "      <td>2.0</td>\n",
       "      <td>4.0</td>\n",
       "      <td>5.0</td>\n",
       "      <td>0.0</td>\n",
       "    </tr>\n",
       "    <tr>\n",
       "      <th>Diana</th>\n",
       "      <td>4</td>\n",
       "      <td>4.0</td>\n",
       "      <td>3.0</td>\n",
       "      <td>0.0</td>\n",
       "      <td>5.0</td>\n",
       "      <td>4.0</td>\n",
       "    </tr>\n",
       "    <tr>\n",
       "      <th>David</th>\n",
       "      <td>4</td>\n",
       "      <td>3.0</td>\n",
       "      <td>0.0</td>\n",
       "      <td>4.0</td>\n",
       "      <td>0.0</td>\n",
       "      <td>0.0</td>\n",
       "    </tr>\n",
       "    <tr>\n",
       "      <th>Michelle</th>\n",
       "      <td>5</td>\n",
       "      <td>5.0</td>\n",
       "      <td>0.0</td>\n",
       "      <td>0.0</td>\n",
       "      <td>4.0</td>\n",
       "      <td>5.0</td>\n",
       "    </tr>\n",
       "    <tr>\n",
       "      <th>Rose</th>\n",
       "      <td>5</td>\n",
       "      <td>5.0</td>\n",
       "      <td>1.0</td>\n",
       "      <td>5.0</td>\n",
       "      <td>4.0</td>\n",
       "      <td>5.0</td>\n",
       "    </tr>\n",
       "    <tr>\n",
       "      <th>Benard</th>\n",
       "      <td>3</td>\n",
       "      <td>0.0</td>\n",
       "      <td>4.0</td>\n",
       "      <td>5.0</td>\n",
       "      <td>0.0</td>\n",
       "      <td>3.0</td>\n",
       "    </tr>\n",
       "  </tbody>\n",
       "</table>\n",
       "</div>"
      ],
      "text/plain": [
       "          Beauty and the Beast  Legionnaire  Black Diamond  Strike back  Wakanda  Aqua Man\n",
       "Evans                        3          4.0            2.0          4.0      5.0       0.0\n",
       "Diana                        4          4.0            3.0          0.0      5.0       4.0\n",
       "David                        4          3.0            0.0          4.0      0.0       0.0\n",
       "Michelle                     5          5.0            0.0          0.0      4.0       5.0\n",
       "Rose                         5          5.0            1.0          5.0      4.0       5.0\n",
       "Benard                       3          0.0            4.0          5.0      0.0       3.0"
      ]
     },
     "execution_count": 52,
     "metadata": {},
     "output_type": "execute_result"
    }
   ],
   "source": [
    "mr.replace(np.NaN, 0)"
   ]
  },
  {
   "cell_type": "markdown",
   "id": "a556fe7e",
   "metadata": {},
   "source": [
    "## Average ratings for each movie"
   ]
  },
  {
   "cell_type": "code",
   "execution_count": 53,
   "id": "f6909148",
   "metadata": {},
   "outputs": [
    {
     "data": {
      "text/plain": [
       "Beauty and the Beast    4.00\n",
       "Legionnaire             4.20\n",
       "Black Diamond           2.50\n",
       "Strike back             4.50\n",
       "Wakanda                 4.50\n",
       "Aqua Man                4.25\n",
       "dtype: float64"
      ]
     },
     "execution_count": 53,
     "metadata": {},
     "output_type": "execute_result"
    }
   ],
   "source": [
    "average_by_movie = mr.mean()\n",
    "average_by_movie"
   ]
  },
  {
   "cell_type": "markdown",
   "id": "7d8c695f",
   "metadata": {},
   "source": [
    "## Average ratings for each user"
   ]
  },
  {
   "cell_type": "code",
   "execution_count": 54,
   "id": "4742fe6d",
   "metadata": {},
   "outputs": [
    {
     "data": {
      "text/plain": [
       "Evans       3.600000\n",
       "Diana       4.000000\n",
       "David       3.666667\n",
       "Michelle    4.750000\n",
       "Rose        4.166667\n",
       "Benard      3.750000\n",
       "dtype: float64"
      ]
     },
     "execution_count": 54,
     "metadata": {},
     "output_type": "execute_result"
    }
   ],
   "source": [
    "average_by_viewer = mr.mean(axis=1)\n",
    "average_by_viewer"
   ]
  },
  {
   "cell_type": "markdown",
   "id": "ab7d6cdf",
   "metadata": {},
   "source": [
    "# NORMALIZED DATA"
   ]
  },
  {
   "cell_type": "code",
   "execution_count": 55,
   "id": "4090f1a6",
   "metadata": {},
   "outputs": [
    {
     "data": {
      "text/html": [
       "<div>\n",
       "<style scoped>\n",
       "    .dataframe tbody tr th:only-of-type {\n",
       "        vertical-align: middle;\n",
       "    }\n",
       "\n",
       "    .dataframe tbody tr th {\n",
       "        vertical-align: top;\n",
       "    }\n",
       "\n",
       "    .dataframe thead th {\n",
       "        text-align: right;\n",
       "    }\n",
       "</style>\n",
       "<table border=\"1\" class=\"dataframe\">\n",
       "  <thead>\n",
       "    <tr style=\"text-align: right;\">\n",
       "      <th></th>\n",
       "      <th>Beauty and the Beast</th>\n",
       "      <th>Legionnaire</th>\n",
       "      <th>Black Diamond</th>\n",
       "      <th>Strike back</th>\n",
       "      <th>Wakanda</th>\n",
       "      <th>Aqua Man</th>\n",
       "    </tr>\n",
       "  </thead>\n",
       "  <tbody>\n",
       "    <tr>\n",
       "      <th>Evans</th>\n",
       "      <td>0.0</td>\n",
       "      <td>0.5</td>\n",
       "      <td>0.333333</td>\n",
       "      <td>0.0</td>\n",
       "      <td>1.0</td>\n",
       "      <td>NaN</td>\n",
       "    </tr>\n",
       "    <tr>\n",
       "      <th>Diana</th>\n",
       "      <td>0.5</td>\n",
       "      <td>0.5</td>\n",
       "      <td>0.666667</td>\n",
       "      <td>NaN</td>\n",
       "      <td>1.0</td>\n",
       "      <td>0.5</td>\n",
       "    </tr>\n",
       "    <tr>\n",
       "      <th>David</th>\n",
       "      <td>0.5</td>\n",
       "      <td>0.0</td>\n",
       "      <td>NaN</td>\n",
       "      <td>0.0</td>\n",
       "      <td>NaN</td>\n",
       "      <td>NaN</td>\n",
       "    </tr>\n",
       "    <tr>\n",
       "      <th>Michelle</th>\n",
       "      <td>1.0</td>\n",
       "      <td>1.0</td>\n",
       "      <td>NaN</td>\n",
       "      <td>NaN</td>\n",
       "      <td>0.0</td>\n",
       "      <td>1.0</td>\n",
       "    </tr>\n",
       "    <tr>\n",
       "      <th>Rose</th>\n",
       "      <td>1.0</td>\n",
       "      <td>1.0</td>\n",
       "      <td>0.000000</td>\n",
       "      <td>1.0</td>\n",
       "      <td>0.0</td>\n",
       "      <td>1.0</td>\n",
       "    </tr>\n",
       "    <tr>\n",
       "      <th>Benard</th>\n",
       "      <td>0.0</td>\n",
       "      <td>NaN</td>\n",
       "      <td>1.000000</td>\n",
       "      <td>1.0</td>\n",
       "      <td>NaN</td>\n",
       "      <td>0.0</td>\n",
       "    </tr>\n",
       "  </tbody>\n",
       "</table>\n",
       "</div>"
      ],
      "text/plain": [
       "          Beauty and the Beast  Legionnaire  Black Diamond  Strike back  Wakanda  Aqua Man\n",
       "Evans                      0.0          0.5       0.333333          0.0      1.0       NaN\n",
       "Diana                      0.5          0.5       0.666667          NaN      1.0       0.5\n",
       "David                      0.5          0.0            NaN          0.0      NaN       NaN\n",
       "Michelle                   1.0          1.0            NaN          NaN      0.0       1.0\n",
       "Rose                       1.0          1.0       0.000000          1.0      0.0       1.0\n",
       "Benard                     0.0          NaN       1.000000          1.0      NaN       0.0"
      ]
     },
     "execution_count": 55,
     "metadata": {},
     "output_type": "execute_result"
    }
   ],
   "source": [
    "normalized_ratings = (mr - mr.min()) / (mr.max() - mr.min())\n",
    "normalized_ratings"
   ]
  },
  {
   "cell_type": "code",
   "execution_count": 56,
   "id": "2df134f6",
   "metadata": {},
   "outputs": [
    {
     "data": {
      "text/html": [
       "<div>\n",
       "<style scoped>\n",
       "    .dataframe tbody tr th:only-of-type {\n",
       "        vertical-align: middle;\n",
       "    }\n",
       "\n",
       "    .dataframe tbody tr th {\n",
       "        vertical-align: top;\n",
       "    }\n",
       "\n",
       "    .dataframe thead th {\n",
       "        text-align: right;\n",
       "    }\n",
       "</style>\n",
       "<table border=\"1\" class=\"dataframe\">\n",
       "  <thead>\n",
       "    <tr style=\"text-align: right;\">\n",
       "      <th></th>\n",
       "      <th>Beauty and the Beast</th>\n",
       "      <th>Legionnaire</th>\n",
       "      <th>Black Diamond</th>\n",
       "      <th>Strike back</th>\n",
       "      <th>Wakanda</th>\n",
       "      <th>Aqua Man</th>\n",
       "    </tr>\n",
       "  </thead>\n",
       "  <tbody>\n",
       "    <tr>\n",
       "      <th>Evans</th>\n",
       "      <td>0.0</td>\n",
       "      <td>0.5</td>\n",
       "      <td>0.333333</td>\n",
       "      <td>0.0</td>\n",
       "      <td>1.0</td>\n",
       "      <td>0.0</td>\n",
       "    </tr>\n",
       "    <tr>\n",
       "      <th>Diana</th>\n",
       "      <td>0.5</td>\n",
       "      <td>0.5</td>\n",
       "      <td>0.666667</td>\n",
       "      <td>0.0</td>\n",
       "      <td>1.0</td>\n",
       "      <td>0.5</td>\n",
       "    </tr>\n",
       "    <tr>\n",
       "      <th>David</th>\n",
       "      <td>0.5</td>\n",
       "      <td>0.0</td>\n",
       "      <td>0.000000</td>\n",
       "      <td>0.0</td>\n",
       "      <td>0.0</td>\n",
       "      <td>0.0</td>\n",
       "    </tr>\n",
       "    <tr>\n",
       "      <th>Michelle</th>\n",
       "      <td>1.0</td>\n",
       "      <td>1.0</td>\n",
       "      <td>0.000000</td>\n",
       "      <td>0.0</td>\n",
       "      <td>0.0</td>\n",
       "      <td>1.0</td>\n",
       "    </tr>\n",
       "    <tr>\n",
       "      <th>Rose</th>\n",
       "      <td>1.0</td>\n",
       "      <td>1.0</td>\n",
       "      <td>0.000000</td>\n",
       "      <td>1.0</td>\n",
       "      <td>0.0</td>\n",
       "      <td>1.0</td>\n",
       "    </tr>\n",
       "    <tr>\n",
       "      <th>Benard</th>\n",
       "      <td>0.0</td>\n",
       "      <td>0.0</td>\n",
       "      <td>1.000000</td>\n",
       "      <td>1.0</td>\n",
       "      <td>0.0</td>\n",
       "      <td>0.0</td>\n",
       "    </tr>\n",
       "  </tbody>\n",
       "</table>\n",
       "</div>"
      ],
      "text/plain": [
       "          Beauty and the Beast  Legionnaire  Black Diamond  Strike back  Wakanda  Aqua Man\n",
       "Evans                      0.0          0.5       0.333333          0.0      1.0       0.0\n",
       "Diana                      0.5          0.5       0.666667          0.0      1.0       0.5\n",
       "David                      0.5          0.0       0.000000          0.0      0.0       0.0\n",
       "Michelle                   1.0          1.0       0.000000          0.0      0.0       1.0\n",
       "Rose                       1.0          1.0       0.000000          1.0      0.0       1.0\n",
       "Benard                     0.0          0.0       1.000000          1.0      0.0       0.0"
      ]
     },
     "execution_count": 56,
     "metadata": {},
     "output_type": "execute_result"
    }
   ],
   "source": [
    "normalized_ratings.replace(np.NaN, 0)"
   ]
  },
  {
   "cell_type": "markdown",
   "id": "b0446024",
   "metadata": {},
   "source": [
    "## Normalized ratings by viewer"
   ]
  },
  {
   "cell_type": "code",
   "execution_count": 57,
   "id": "4094a182",
   "metadata": {},
   "outputs": [
    {
     "data": {
      "text/plain": [
       "Evans       0.366667\n",
       "Diana       0.633333\n",
       "David       0.166667\n",
       "Michelle    0.750000\n",
       "Rose        0.666667\n",
       "Benard      0.500000\n",
       "dtype: float64"
      ]
     },
     "execution_count": 57,
     "metadata": {},
     "output_type": "execute_result"
    }
   ],
   "source": [
    "normalized_avg_by_user = normalized_ratings.mean(axis = 1)\n",
    "normalized_avg_by_user"
   ]
  },
  {
   "cell_type": "markdown",
   "id": "cf6b4e65",
   "metadata": {},
   "source": [
    "## Normalized ratings by movie"
   ]
  },
  {
   "cell_type": "code",
   "execution_count": 58,
   "id": "2fafc1a6",
   "metadata": {},
   "outputs": [
    {
     "data": {
      "text/plain": [
       "Beauty and the Beast    0.500\n",
       "Legionnaire             0.600\n",
       "Black Diamond           0.500\n",
       "Strike back             0.500\n",
       "Wakanda                 0.500\n",
       "Aqua Man                0.625\n",
       "dtype: float64"
      ]
     },
     "execution_count": 58,
     "metadata": {},
     "output_type": "execute_result"
    }
   ],
   "source": [
    "normalized_avg_by_movie = normalized_ratings.mean()\n",
    "normalized_avg_by_movie"
   ]
  },
  {
   "cell_type": "markdown",
   "id": "1c4b80a9",
   "metadata": {},
   "source": [
    "# CONCLUSION"
   ]
  },
  {
   "cell_type": "markdown",
   "id": "1f2648e8",
   "metadata": {},
   "source": [
    "Normalized data can have its advantages as well as its disadvantages. Normailized data can help users get a better look at the data by accounting for anomalies such as outliners and/or duplicates. Normalization serves the purpose of bringing the indicators into the same unit. A disadvantage of normalized data can be the 'null' values. It creates null values which can become unrealiable data and confusing to the user. Having normalized data can as well have its advantages. One advantage is it gives users a better scale of viewing 'normal' data that can be used in graphs for plotting if needed for graphical viewing."
   ]
  },
  {
   "cell_type": "markdown",
   "id": "8dc790d0",
   "metadata": {},
   "source": [
    "# STANDARDIZED DATA"
   ]
  },
  {
   "cell_type": "code",
   "execution_count": 59,
   "id": "102036eb",
   "metadata": {},
   "outputs": [
    {
     "data": {
      "text/html": [
       "<div>\n",
       "<style scoped>\n",
       "    .dataframe tbody tr th:only-of-type {\n",
       "        vertical-align: middle;\n",
       "    }\n",
       "\n",
       "    .dataframe tbody tr th {\n",
       "        vertical-align: top;\n",
       "    }\n",
       "\n",
       "    .dataframe thead th {\n",
       "        text-align: right;\n",
       "    }\n",
       "</style>\n",
       "<table border=\"1\" class=\"dataframe\">\n",
       "  <thead>\n",
       "    <tr style=\"text-align: right;\">\n",
       "      <th></th>\n",
       "      <th>Beauty and the Beast</th>\n",
       "      <th>Legionnaire</th>\n",
       "      <th>Black Diamond</th>\n",
       "      <th>Strike back</th>\n",
       "      <th>Wakanda</th>\n",
       "      <th>Aqua Man</th>\n",
       "    </tr>\n",
       "  </thead>\n",
       "  <tbody>\n",
       "    <tr>\n",
       "      <th>Evans</th>\n",
       "      <td>-1.118034</td>\n",
       "      <td>-0.239046</td>\n",
       "      <td>-0.387298</td>\n",
       "      <td>-0.866025</td>\n",
       "      <td>0.866025</td>\n",
       "      <td>NaN</td>\n",
       "    </tr>\n",
       "    <tr>\n",
       "      <th>Diana</th>\n",
       "      <td>0.000000</td>\n",
       "      <td>-0.239046</td>\n",
       "      <td>0.387298</td>\n",
       "      <td>NaN</td>\n",
       "      <td>0.866025</td>\n",
       "      <td>-0.261116</td>\n",
       "    </tr>\n",
       "    <tr>\n",
       "      <th>David</th>\n",
       "      <td>0.000000</td>\n",
       "      <td>-1.434274</td>\n",
       "      <td>NaN</td>\n",
       "      <td>-0.866025</td>\n",
       "      <td>NaN</td>\n",
       "      <td>NaN</td>\n",
       "    </tr>\n",
       "    <tr>\n",
       "      <th>Michelle</th>\n",
       "      <td>1.118034</td>\n",
       "      <td>0.956183</td>\n",
       "      <td>NaN</td>\n",
       "      <td>NaN</td>\n",
       "      <td>-0.866025</td>\n",
       "      <td>0.783349</td>\n",
       "    </tr>\n",
       "    <tr>\n",
       "      <th>Rose</th>\n",
       "      <td>1.118034</td>\n",
       "      <td>0.956183</td>\n",
       "      <td>-1.161895</td>\n",
       "      <td>0.866025</td>\n",
       "      <td>-0.866025</td>\n",
       "      <td>0.783349</td>\n",
       "    </tr>\n",
       "    <tr>\n",
       "      <th>Benard</th>\n",
       "      <td>-1.118034</td>\n",
       "      <td>NaN</td>\n",
       "      <td>1.161895</td>\n",
       "      <td>0.866025</td>\n",
       "      <td>NaN</td>\n",
       "      <td>-1.305582</td>\n",
       "    </tr>\n",
       "  </tbody>\n",
       "</table>\n",
       "</div>"
      ],
      "text/plain": [
       "          Beauty and the Beast  Legionnaire  Black Diamond  Strike back   Wakanda  Aqua Man\n",
       "Evans                -1.118034    -0.239046      -0.387298    -0.866025  0.866025       NaN\n",
       "Diana                 0.000000    -0.239046       0.387298          NaN  0.866025 -0.261116\n",
       "David                 0.000000    -1.434274            NaN    -0.866025       NaN       NaN\n",
       "Michelle              1.118034     0.956183            NaN          NaN -0.866025  0.783349\n",
       "Rose                  1.118034     0.956183      -1.161895     0.866025 -0.866025  0.783349\n",
       "Benard               -1.118034          NaN       1.161895     0.866025       NaN -1.305582"
      ]
     },
     "execution_count": 59,
     "metadata": {},
     "output_type": "execute_result"
    }
   ],
   "source": [
    "standardized = (mr - mr.mean())/mr.std()\n",
    "standardized"
   ]
  },
  {
   "cell_type": "code",
   "execution_count": 60,
   "id": "4be5572e",
   "metadata": {},
   "outputs": [
    {
     "data": {
      "text/html": [
       "<div>\n",
       "<style scoped>\n",
       "    .dataframe tbody tr th:only-of-type {\n",
       "        vertical-align: middle;\n",
       "    }\n",
       "\n",
       "    .dataframe tbody tr th {\n",
       "        vertical-align: top;\n",
       "    }\n",
       "\n",
       "    .dataframe thead th {\n",
       "        text-align: right;\n",
       "    }\n",
       "</style>\n",
       "<table border=\"1\" class=\"dataframe\">\n",
       "  <thead>\n",
       "    <tr style=\"text-align: right;\">\n",
       "      <th></th>\n",
       "      <th>Beauty and the Beast</th>\n",
       "      <th>Legionnaire</th>\n",
       "      <th>Black Diamond</th>\n",
       "      <th>Strike back</th>\n",
       "      <th>Wakanda</th>\n",
       "      <th>Aqua Man</th>\n",
       "    </tr>\n",
       "  </thead>\n",
       "  <tbody>\n",
       "    <tr>\n",
       "      <th>Evans</th>\n",
       "      <td>-1.118034</td>\n",
       "      <td>-0.239046</td>\n",
       "      <td>-0.387298</td>\n",
       "      <td>-0.866025</td>\n",
       "      <td>0.866025</td>\n",
       "      <td>0.000000</td>\n",
       "    </tr>\n",
       "    <tr>\n",
       "      <th>Diana</th>\n",
       "      <td>0.000000</td>\n",
       "      <td>-0.239046</td>\n",
       "      <td>0.387298</td>\n",
       "      <td>0.000000</td>\n",
       "      <td>0.866025</td>\n",
       "      <td>-0.261116</td>\n",
       "    </tr>\n",
       "    <tr>\n",
       "      <th>David</th>\n",
       "      <td>0.000000</td>\n",
       "      <td>-1.434274</td>\n",
       "      <td>0.000000</td>\n",
       "      <td>-0.866025</td>\n",
       "      <td>0.000000</td>\n",
       "      <td>0.000000</td>\n",
       "    </tr>\n",
       "    <tr>\n",
       "      <th>Michelle</th>\n",
       "      <td>1.118034</td>\n",
       "      <td>0.956183</td>\n",
       "      <td>0.000000</td>\n",
       "      <td>0.000000</td>\n",
       "      <td>-0.866025</td>\n",
       "      <td>0.783349</td>\n",
       "    </tr>\n",
       "    <tr>\n",
       "      <th>Rose</th>\n",
       "      <td>1.118034</td>\n",
       "      <td>0.956183</td>\n",
       "      <td>-1.161895</td>\n",
       "      <td>0.866025</td>\n",
       "      <td>-0.866025</td>\n",
       "      <td>0.783349</td>\n",
       "    </tr>\n",
       "    <tr>\n",
       "      <th>Benard</th>\n",
       "      <td>-1.118034</td>\n",
       "      <td>0.000000</td>\n",
       "      <td>1.161895</td>\n",
       "      <td>0.866025</td>\n",
       "      <td>0.000000</td>\n",
       "      <td>-1.305582</td>\n",
       "    </tr>\n",
       "  </tbody>\n",
       "</table>\n",
       "</div>"
      ],
      "text/plain": [
       "          Beauty and the Beast  Legionnaire  Black Diamond  Strike back   Wakanda  Aqua Man\n",
       "Evans                -1.118034    -0.239046      -0.387298    -0.866025  0.866025  0.000000\n",
       "Diana                 0.000000    -0.239046       0.387298     0.000000  0.866025 -0.261116\n",
       "David                 0.000000    -1.434274       0.000000    -0.866025  0.000000  0.000000\n",
       "Michelle              1.118034     0.956183       0.000000     0.000000 -0.866025  0.783349\n",
       "Rose                  1.118034     0.956183      -1.161895     0.866025 -0.866025  0.783349\n",
       "Benard               -1.118034     0.000000       1.161895     0.866025  0.000000 -1.305582"
      ]
     },
     "execution_count": 60,
     "metadata": {},
     "output_type": "execute_result"
    }
   ],
   "source": [
    "standardized.replace(np.NaN, 0)"
   ]
  },
  {
   "cell_type": "markdown",
   "id": "b7cd66ae",
   "metadata": {},
   "source": [
    "## Standardized ratings by viewer"
   ]
  },
  {
   "cell_type": "code",
   "execution_count": 61,
   "id": "5ba05494",
   "metadata": {},
   "outputs": [
    {
     "data": {
      "text/plain": [
       "Evans      -0.348876\n",
       "Diana       0.150632\n",
       "David      -0.766767\n",
       "Michelle    0.497885\n",
       "Rose        0.282612\n",
       "Benard     -0.098924\n",
       "dtype: float64"
      ]
     },
     "execution_count": 61,
     "metadata": {},
     "output_type": "execute_result"
    }
   ],
   "source": [
    "standardized_avg_by_users = standardized.mean(1) \n",
    "standardized_avg_by_users"
   ]
  },
  {
   "cell_type": "markdown",
   "id": "733e2eaf",
   "metadata": {},
   "source": [
    "## Standardized ratings by movie"
   ]
  },
  {
   "cell_type": "code",
   "execution_count": 62,
   "id": "5b2fcea7",
   "metadata": {},
   "outputs": [
    {
     "data": {
      "text/plain": [
       "Beauty and the Beast    0.000000e+00\n",
       "Legionnaire            -1.776357e-16\n",
       "Black Diamond           0.000000e+00\n",
       "Strike back             0.000000e+00\n",
       "Wakanda                 0.000000e+00\n",
       "Aqua Man                5.551115e-17\n",
       "dtype: float64"
      ]
     },
     "execution_count": 62,
     "metadata": {},
     "output_type": "execute_result"
    }
   ],
   "source": [
    "standardized_avg_by_movie = standardized.mean(0)\n",
    "standardized_avg_by_movie"
   ]
  }
 ],
 "metadata": {
  "kernelspec": {
   "display_name": "Python 3",
   "language": "python",
   "name": "python3"
  },
  "language_info": {
   "codemirror_mode": {
    "name": "ipython",
    "version": 3
   },
   "file_extension": ".py",
   "mimetype": "text/x-python",
   "name": "python",
   "nbconvert_exporter": "python",
   "pygments_lexer": "ipython3",
   "version": "3.9.4"
  }
 },
 "nbformat": 4,
 "nbformat_minor": 5
}
